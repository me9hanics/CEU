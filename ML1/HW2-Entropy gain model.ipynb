{
 "cells": [
  {
   "cell_type": "markdown",
   "id": "f0fdce26",
   "metadata": {},
   "source": [
    "# Homework\n",
    "Note: I did not write anything on paper, I just used software."
   ]
  },
  {
   "cell_type": "code",
   "execution_count": 2,
   "id": "36c7b448",
   "metadata": {},
   "outputs": [],
   "source": [
    "import pandas as pd\n",
    "import math"
   ]
  },
  {
   "cell_type": "code",
   "execution_count": 3,
   "id": "f284a894",
   "metadata": {},
   "outputs": [],
   "source": [
    "traindata = { \"Color\": [\"black\",\"white\",\"black\",\"red\",\"black\",\"white\"],\n",
    "             \"Size\": [\"large\",\"small\",\"small\",\"large\",\"large\",\"large\"],\n",
    "             \"Time\": [\"day\",\"night\", \"day\", \"night\", \"night\", \"night\"],\n",
    "             \"Caught\":[\"yes\",\"yes\",\"yes\",\"no\",\"no\",\"no\"] }\n",
    "testdata = { \"Color\": [\"black\",\"red\",\"white\"],\n",
    "             \"Size\": [\"small\",\"small\",\"large\"],\n",
    "             \"Time\": [\"night\",\"night\", \"day\"],\n",
    "              }\n",
    "train_df = pd.DataFrame(traindata)\n",
    "test_df = pd.DataFrame(testdata)\n",
    "#x_train = train_df[[\"Color\",\"Size\",\"Time\"]]\n",
    "#y_train= train_df[\"Caught\"]\n"
   ]
  },
  {
   "cell_type": "code",
   "execution_count": 37,
   "id": "9cf990cd",
   "metadata": {},
   "outputs": [
    {
     "data": {
      "text/html": [
       "<div>\n",
       "<style scoped>\n",
       "    .dataframe tbody tr th:only-of-type {\n",
       "        vertical-align: middle;\n",
       "    }\n",
       "\n",
       "    .dataframe tbody tr th {\n",
       "        vertical-align: top;\n",
       "    }\n",
       "\n",
       "    .dataframe thead th {\n",
       "        text-align: right;\n",
       "    }\n",
       "</style>\n",
       "<table border=\"1\" class=\"dataframe\">\n",
       "  <thead>\n",
       "    <tr style=\"text-align: right;\">\n",
       "      <th></th>\n",
       "      <th>Color</th>\n",
       "      <th>Size</th>\n",
       "      <th>Time</th>\n",
       "      <th>Caught</th>\n",
       "    </tr>\n",
       "  </thead>\n",
       "  <tbody>\n",
       "    <tr>\n",
       "      <th>count</th>\n",
       "      <td>6</td>\n",
       "      <td>6</td>\n",
       "      <td>6</td>\n",
       "      <td>6</td>\n",
       "    </tr>\n",
       "    <tr>\n",
       "      <th>unique</th>\n",
       "      <td>3</td>\n",
       "      <td>2</td>\n",
       "      <td>2</td>\n",
       "      <td>2</td>\n",
       "    </tr>\n",
       "    <tr>\n",
       "      <th>top</th>\n",
       "      <td>black</td>\n",
       "      <td>large</td>\n",
       "      <td>night</td>\n",
       "      <td>yes</td>\n",
       "    </tr>\n",
       "    <tr>\n",
       "      <th>freq</th>\n",
       "      <td>3</td>\n",
       "      <td>4</td>\n",
       "      <td>4</td>\n",
       "      <td>3</td>\n",
       "    </tr>\n",
       "  </tbody>\n",
       "</table>\n",
       "</div>"
      ],
      "text/plain": [
       "        Color   Size   Time Caught\n",
       "count       6      6      6      6\n",
       "unique      3      2      2      2\n",
       "top     black  large  night    yes\n",
       "freq        3      4      4      3"
      ]
     },
     "execution_count": 37,
     "metadata": {},
     "output_type": "execute_result"
    }
   ],
   "source": [
    "train_df.describe()"
   ]
  },
  {
   "cell_type": "code",
   "execution_count": 38,
   "id": "7549cbd7",
   "metadata": {},
   "outputs": [],
   "source": [
    "#Entropy function (from class)\n",
    "def entropy(probabilities):\n",
    "    \"\"\"Compute the entropy\n",
    "    probabilities: a list of probabilities\n",
    "    \"\"\"\n",
    "    # Check if the sum of probabilities is approximately 1, throw an error otherwise\n",
    "    assert sum(probabilities) > 0.99 and sum(probabilities) < 1.01, \"The sum of probabilities is not 1\"\n",
    "    return sum([-p * math.log(p, 2) for p in probabilities if p != 0])"
   ]
  },
  {
   "cell_type": "markdown",
   "id": "7fbb30ce",
   "metadata": {},
   "source": [
    "#### Computation of the entropy of the original set\n",
    "We first have to compute the the entropy of the original set. We'll use the above function.\n",
    "\n",
    "When computing the subset entropies, I use a different method as here. There, I create the subset dataframes, and calculate the probabilities based on their size. Here, for demonstration, I count each instance having a specific attribute value with the below defined function, then divide by the overall size. Of course, this is verbose."
   ]
  },
  {
   "cell_type": "code",
   "execution_count": 6,
   "id": "94104d32",
   "metadata": {},
   "outputs": [],
   "source": [
    "#Just a demonstration function used for getting the probabilities used by the entropy function\n",
    "def amount_of_val_in_attribute(val, attribute):\n",
    "    amount = 0\n",
    "    for index, value in attribute.items():\n",
    "        if value == val : amount += 1\n",
    "    return amount"
   ]
  },
  {
   "cell_type": "code",
   "execution_count": 7,
   "id": "48a7d7e4",
   "metadata": {},
   "outputs": [],
   "source": [
    "#First get the probabilities\n",
    "L = len(train_df[\"Caught\"]) # Save the size of the set for later\n",
    "p_of_yes = amount_of_val_in_attribute(\"yes\",train_df[\"Caught\"]) / L # 50%\n",
    "p_of_no = amount_of_val_in_attribute(\"no\",train_df[\"Caught\"]) / L # 50%\n",
    "#Then call the entropy function\n",
    "Set0_entropy = entropy([p_of_yes, p_of_no])"
   ]
  },
  {
   "cell_type": "markdown",
   "id": "4cba7bc4",
   "metadata": {},
   "source": [
    "The entropy of the original set (named set 0, and as I go deeper each level from the root, I will name the sets of sublayers by set 1, set 2 etc.) equals to 1, the highest possible."
   ]
  },
  {
   "cell_type": "markdown",
   "id": "82ae8a15",
   "metadata": {},
   "source": [
    "## First iteration (first layer after root)\n",
    "\n",
    "Lets check how the entropy changes as one would split by each argument at once.\n",
    "\n",
    "Here I already create subset dataframes, and use their sizes for probabilities."
   ]
  },
  {
   "cell_type": "code",
   "execution_count": 8,
   "id": "87fcfa5d",
   "metadata": {},
   "outputs": [
    {
     "name": "stdout",
     "output_type": "stream",
     "text": [
      "Nighttime entropy: 0.8112781244591328. Daytime entropy: 0.0. Overall time information gain: 0.4591479170272448\n"
     ]
    }
   ],
   "source": [
    "#Time split\n",
    "Set0_split_night=train_df[train_df.values==\"night\"] # I mean.. it's iffy to use df.values because it is safer, more clean to use just df[column]==\"whatever\". But in this case it works 100% (all values in all columns are different) and this is faster to CTRL-C CTRL-V\n",
    "Set0_split_night_yes = Set0_split_night[Set0_split_night.values == \"yes\"]\n",
    "Set0_split_night_no = Set0_split_night[Set0_split_night.values == \"no\"]\n",
    "Set0_split_day = train_df[train_df.values==\"day\"]\n",
    "Set0_split_day_yes = Set0_split_day[Set0_split_day.values == \"yes\"]\n",
    "Set0_split_day_no = Set0_split_day[Set0_split_day.values == \"no\"]\n",
    "\n",
    "#Probabilities: [AllYes/All , AllNo/All]\n",
    "Set0_split_night_entropy = entropy([len(Set0_split_night_yes)/ len(Set0_split_night), len(Set0_split_night_no)/len(Set0_split_night) ])\n",
    "Set0_split_day_entropy = entropy([len(Set0_split_day_yes)/ len(Set0_split_day), len(Set0_split_day_no)/len(Set0_split_day) ])\n",
    "\n",
    "Set0_split_time_information_gain = Set0_entropy - len(Set0_split_night)/L * Set0_split_night_entropy - len(Set0_split_day)/L * Set0_split_day_entropy\n",
    "Set0_split_time_information_gain\n",
    "print(f\"Nighttime entropy: {Set0_split_night_entropy}. Daytime entropy: {Set0_split_day_entropy}. Overall time information gain: {Set0_split_time_information_gain}\")"
   ]
  },
  {
   "cell_type": "code",
   "execution_count": 9,
   "id": "ed47770a",
   "metadata": {},
   "outputs": [
    {
     "name": "stdout",
     "output_type": "stream",
     "text": [
      "0.904381457724494\n"
     ]
    },
    {
     "data": {
      "text/plain": [
       "0.6666666666666666"
      ]
     },
     "execution_count": 9,
     "metadata": {},
     "output_type": "execute_result"
    }
   ],
   "source": [
    "print(entropy([0.68,0.32]))\n",
    "len(Set0_split_night)/L"
   ]
  },
  {
   "cell_type": "code",
   "execution_count": 22,
   "id": "9af8e6bd",
   "metadata": {},
   "outputs": [
    {
     "name": "stdout",
     "output_type": "stream",
     "text": [
      "Large size entropy: 0.8112781244591328. Small size entropy: 0.0. Overall size information gain: 0.4591479170272448\n"
     ]
    }
   ],
   "source": [
    "#Size split\n",
    "Set0_split_large=train_df[train_df.values==\"large\"]\n",
    "Set0_split_large_yes = Set0_split_large[Set0_split_large.values == \"yes\"]\n",
    "Set0_split_large_no = Set0_split_large[Set0_split_large.values == \"no\"]\n",
    "Set0_split_small = train_df[train_df.values==\"small\"]\n",
    "Set0_split_small_yes = Set0_split_small[Set0_split_small.values == \"yes\"]\n",
    "Set0_split_small_no = Set0_split_small[Set0_split_small.values == \"no\"]\n",
    "\n",
    "Set0_split_large_entropy = entropy([len(Set0_split_large_yes)/ len(Set0_split_large), len(Set0_split_large_no)/len(Set0_split_large) ])\n",
    "Set0_split_small_entropy = entropy([len(Set0_split_small_yes)/ len(Set0_split_small), len(Set0_split_small_no)/len(Set0_split_small) ])\n",
    "\n",
    "Set0_split_size_information_gain = Set0_entropy - len(Set0_split_small)/L * Set0_split_small_entropy - len(Set0_split_large)/L * Set0_split_large_entropy\n",
    "print(f\"Large size entropy: {Set0_split_large_entropy}. Small size entropy: {Set0_split_small_entropy}. Overall size information gain: {Set0_split_size_information_gain}\")"
   ]
  },
  {
   "cell_type": "code",
   "execution_count": 23,
   "id": "59bda9d8",
   "metadata": {},
   "outputs": [
    {
     "name": "stdout",
     "output_type": "stream",
     "text": [
      "Black color entropy: 0.9182958340544896. White color entropy: 1.0. Red color entropy: 0.0. Overall size information gain: 0.2075187496394219\n"
     ]
    }
   ],
   "source": [
    "#Color split\n",
    "Set0_split_black=train_df[train_df.values==\"black\"]\n",
    "Set0_split_black_yes = Set0_split_black[Set0_split_black.values == \"yes\"]\n",
    "Set0_split_black_no = Set0_split_black[Set0_split_black.values == \"no\"]\n",
    "Set0_split_white = train_df[train_df.values==\"white\"]\n",
    "Set0_split_white_yes = Set0_split_white[Set0_split_white.values == \"yes\"]\n",
    "Set0_split_white_no = Set0_split_white[Set0_split_white.values == \"no\"]\n",
    "Set0_split_red=train_df[train_df.values==\"red\"]\n",
    "Set0_split_red_yes = Set0_split_red[Set0_split_red.values == \"yes\"]\n",
    "Set0_split_red_no = Set0_split_red[Set0_split_red.values == \"no\"]\n",
    "\n",
    "Set0_split_black_entropy = entropy([len(Set0_split_black_yes)/ len(Set0_split_black), len(Set0_split_black_no)/len(Set0_split_black) ])\n",
    "Set0_split_white_entropy = entropy([len(Set0_split_white_yes)/ len(Set0_split_white), len(Set0_split_white_no)/len(Set0_split_white) ])\n",
    "Set0_split_red_entropy = entropy([len(Set0_split_red_yes)/ len(Set0_split_red), len(Set0_split_red_no)/len(Set0_split_red) ])\n",
    "\n",
    "Set0_split_color_information_gain = Set0_entropy - len(Set0_split_black)/L * Set0_split_black_entropy - len(Set0_split_white)/L * Set0_split_white_entropy - len(Set0_split_red)/L * Set0_split_red_entropy\n",
    "print(f\"Black color entropy: {Set0_split_black_entropy}. White color entropy: {Set0_split_white_entropy}. Red color entropy: {Set0_split_red_entropy}. Overall size information gain: {Set0_split_color_information_gain}\")"
   ]
  },
  {
   "attachments": {
    "image.png": {
     "image/png": "[encoded data removed]"
    }
   },
   "cell_type": "markdown",
   "id": "85197907",
   "metadata": {},
   "source": [
    "### Conclusion\n",
    "As we see that we gain more information by splitting time or size, we should first split by one of them. Let's split by time.\n",
    "\n",
    "We are lucky, that because Set0_split_day_entropy equals 0, because in the training data time == day => caught == yes. So we get a leaf in the tree already, and we only have to check the case, when the time is night.\n",
    "![image.png](attachment:image.png)"
   ]
  },
  {
   "cell_type": "code",
   "execution_count": 32,
   "id": "43b1d000",
   "metadata": {},
   "outputs": [
    {
     "data": {
      "text/html": [
       "<div>\n",
       "<style scoped>\n",
       "    .dataframe tbody tr th:only-of-type {\n",
       "        vertical-align: middle;\n",
       "    }\n",
       "\n",
       "    .dataframe tbody tr th {\n",
       "        vertical-align: top;\n",
       "    }\n",
       "\n",
       "    .dataframe thead th {\n",
       "        text-align: right;\n",
       "    }\n",
       "</style>\n",
       "<table border=\"1\" class=\"dataframe\">\n",
       "  <thead>\n",
       "    <tr style=\"text-align: right;\">\n",
       "      <th></th>\n",
       "      <th>Color</th>\n",
       "      <th>Size</th>\n",
       "      <th>Time</th>\n",
       "      <th>Caught</th>\n",
       "    </tr>\n",
       "  </thead>\n",
       "  <tbody>\n",
       "    <tr>\n",
       "      <th>1</th>\n",
       "      <td>white</td>\n",
       "      <td>small</td>\n",
       "      <td>night</td>\n",
       "      <td>yes</td>\n",
       "    </tr>\n",
       "    <tr>\n",
       "      <th>3</th>\n",
       "      <td>red</td>\n",
       "      <td>large</td>\n",
       "      <td>night</td>\n",
       "      <td>no</td>\n",
       "    </tr>\n",
       "    <tr>\n",
       "      <th>4</th>\n",
       "      <td>black</td>\n",
       "      <td>large</td>\n",
       "      <td>night</td>\n",
       "      <td>no</td>\n",
       "    </tr>\n",
       "    <tr>\n",
       "      <th>5</th>\n",
       "      <td>white</td>\n",
       "      <td>large</td>\n",
       "      <td>night</td>\n",
       "      <td>no</td>\n",
       "    </tr>\n",
       "  </tbody>\n",
       "</table>\n",
       "</div>"
      ],
      "text/plain": [
       "   Color   Size   Time Caught\n",
       "1  white  small  night    yes\n",
       "3    red  large  night     no\n",
       "4  black  large  night     no\n",
       "5  white  large  night     no"
      ]
     },
     "execution_count": 32,
     "metadata": {},
     "output_type": "execute_result"
    }
   ],
   "source": [
    "#Set the new level\n",
    "Set1 = Set0_split_night\n",
    "Set1_entropy = Set0_split_night_entropy\n",
    "L1 = len(Set0_split_night)\n",
    "Set1"
   ]
  },
  {
   "cell_type": "markdown",
   "id": "74c7028f",
   "metadata": {},
   "source": [
    "## Second iteration \n",
    "\n",
    "Lets check how the entropy changes again."
   ]
  },
  {
   "cell_type": "code",
   "execution_count": 33,
   "id": "3299b64e",
   "metadata": {},
   "outputs": [
    {
     "name": "stdout",
     "output_type": "stream",
     "text": [
      "Large size entropy: 0.0. Small size entropy: 0.0. Overall size information gain: 0.8112781244591328\n"
     ]
    }
   ],
   "source": [
    "Set1_split_large=Set1[Set1.values==\"large\"]\n",
    "Set1_split_large_yes = Set1_split_large[Set1_split_large.values == \"yes\"]\n",
    "Set1_split_large_no = Set1_split_large[Set1_split_large.values == \"no\"]\n",
    "Set1_split_small = Set1[Set1.values==\"small\"]\n",
    "Set1_split_small_yes = Set1_split_small[Set1_split_small.values == \"yes\"]\n",
    "Set1_split_small_no = Set1_split_small[Set1_split_small.values == \"no\"]\n",
    "\n",
    "Set1_split_large_entropy = entropy([len(Set1_split_large_yes)/ len(Set1_split_large), len(Set1_split_large_no)/len(Set1_split_large) ])\n",
    "Set1_split_small_entropy = entropy([len(Set1_split_small_yes)/ len(Set1_split_small), len(Set1_split_small_no)/len(Set1_split_small) ])\n",
    "\n",
    "Set1_split_size_information_gain = Set1_entropy - len(Set1_split_small)/L1 * Set1_split_small_entropy - len(Set1_split_large)/L1 * Set1_split_large_entropy\n",
    "print(f\"Large size entropy: {Set1_split_large_entropy}. Small size entropy: {Set1_split_small_entropy}. Overall size information gain: {Set1_split_size_information_gain}\")"
   ]
  },
  {
   "attachments": {
    "image-2.png": {
     "image/png": "[encoded data removed]"
    }
   },
   "cell_type": "markdown",
   "id": "167f1349",
   "metadata": {},
   "source": [
    "This is maximal information gain, we can just stop here. Do not have to use the color information, in this small training set it does not make a difference. (Note: color split can't bring maximal information gain, as there is a nighttime white insect which was caught, and one which wasn't)\n",
    "\n",
    "Basically, the digital logic associated with our decision-tree: if time == day THEN yes, else if size == small THEN yes, else no\n",
    "![image-2.png](attachment:image-2.png)"
   ]
  },
  {
   "cell_type": "markdown",
   "id": "340d37fd",
   "metadata": {},
   "source": [
    "## Testing"
   ]
  },
  {
   "cell_type": "code",
   "execution_count": 34,
   "id": "1d998cbd",
   "metadata": {},
   "outputs": [],
   "source": [
    "def our_tree(dataframe):\n",
    "    answers =[]\n",
    "    for index, row in dataframe.iterrows():\n",
    "        if row[\"Time\"] == \"day\":\n",
    "            answers.append(\"yes\")\n",
    "            continue\n",
    "        else:\n",
    "            if row[\"Size\"] == \"small\":\n",
    "                answers.append(\"yes\")\n",
    "                continue\n",
    "            else:\n",
    "                answers.append(\"no\")\n",
    "    return answers"
   ]
  },
  {
   "cell_type": "code",
   "execution_count": 35,
   "id": "826ffc4d",
   "metadata": {},
   "outputs": [
    {
     "data": {
      "text/html": [
       "<div>\n",
       "<style scoped>\n",
       "    .dataframe tbody tr th:only-of-type {\n",
       "        vertical-align: middle;\n",
       "    }\n",
       "\n",
       "    .dataframe tbody tr th {\n",
       "        vertical-align: top;\n",
       "    }\n",
       "\n",
       "    .dataframe thead th {\n",
       "        text-align: right;\n",
       "    }\n",
       "</style>\n",
       "<table border=\"1\" class=\"dataframe\">\n",
       "  <thead>\n",
       "    <tr style=\"text-align: right;\">\n",
       "      <th></th>\n",
       "      <th>Color</th>\n",
       "      <th>Size</th>\n",
       "      <th>Time</th>\n",
       "    </tr>\n",
       "  </thead>\n",
       "  <tbody>\n",
       "    <tr>\n",
       "      <th>0</th>\n",
       "      <td>black</td>\n",
       "      <td>small</td>\n",
       "      <td>night</td>\n",
       "    </tr>\n",
       "    <tr>\n",
       "      <th>1</th>\n",
       "      <td>red</td>\n",
       "      <td>small</td>\n",
       "      <td>night</td>\n",
       "    </tr>\n",
       "    <tr>\n",
       "      <th>2</th>\n",
       "      <td>white</td>\n",
       "      <td>large</td>\n",
       "      <td>day</td>\n",
       "    </tr>\n",
       "  </tbody>\n",
       "</table>\n",
       "</div>"
      ],
      "text/plain": [
       "   Color   Size   Time\n",
       "0  black  small  night\n",
       "1    red  small  night\n",
       "2  white  large    day"
      ]
     },
     "execution_count": 35,
     "metadata": {},
     "output_type": "execute_result"
    }
   ],
   "source": [
    "test_df"
   ]
  },
  {
   "cell_type": "code",
   "execution_count": 36,
   "id": "15b6883b",
   "metadata": {},
   "outputs": [
    {
     "data": {
      "text/plain": [
       "['yes', 'yes', 'yes']"
      ]
     },
     "execution_count": 36,
     "metadata": {},
     "output_type": "execute_result"
    }
   ],
   "source": [
    "our_tree(test_df)"
   ]
  },
  {
   "cell_type": "markdown",
   "id": "6a30ea6e",
   "metadata": {},
   "source": [
    "This checks out, as in one case we have daytime, in other cases the insect is small."
   ]
  }
 ],
 "metadata": {
  "kernelspec": {
   "display_name": "Python 3 (ipykernel)",
   "language": "python",
   "name": "python3"
  },
  "language_info": {
   "codemirror_mode": {
    "name": "ipython",
    "version": 3
   },
   "file_extension": ".py",
   "mimetype": "text/x-python",
   "name": "python",
   "nbconvert_exporter": "python",
   "pygments_lexer": "ipython3",
   "version": "3.11.5"
  }
 },
 "nbformat": 4,
 "nbformat_minor": 5
}
