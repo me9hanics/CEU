{
 "cells": [
  {
   "cell_type": "markdown",
   "id": "5fadd5c3",
   "metadata": {},
   "source": [
    "# Introduction to SciKitLearn\n",
    "\n",
    "- Classification: Categorizing examples into groups\n",
    "- Numeric prediction: Assigning numbers to examples\n",
    "\n",
    "## Numeric prediction\n",
    "\n",
    "- Predicting numeric values, also called regression\n"
   ]
  },
  {
   "cell_type": "markdown",
   "id": "7313dd45",
   "metadata": {},
   "source": [
    "Imports"
   ]
  },
  {
   "cell_type": "code",
   "execution_count": null,
   "id": "f33ade90",
   "metadata": {},
   "outputs": [],
   "source": [
    "import pandas as pd\n",
    "import numpy as np                    # to generate grids and vectors\n",
    "\n",
    "# algorithms\n",
    "from sklearn import dummy\n",
    "from sklearn import linear_model\n",
    "from sklearn import tree\n",
    "from sklearn.neighbors import KNeighborsRegressor\n",
    "\n",
    "# evaluation\n",
    "from sklearn.model_selection import train_test_split\n",
    "from sklearn import metrics\n",
    "\n",
    "# plotting\n",
    "import matplotlib.pyplot as plt\n",
    "from sklearn.tree import plot_tree\n",
    "from matplotlib.pyplot import figure            # for setting the figure size"
   ]
  },
  {
   "cell_type": "markdown",
   "id": "329d5f95",
   "metadata": {},
   "source": [
    "Load the data"
   ]
  },
  {
   "cell_type": "code",
   "execution_count": null,
   "id": "b4bb5d15",
   "metadata": {
    "scrolled": true
   },
   "outputs": [],
   "source": [
    "csvFileName = r\"./age-height.csv\"\n",
    "df = pd.read_csv(csvFileName)\n",
    "print(\"data shape: \", df.shape)\n",
    "print(df.head())\n",
    "\n",
    "# for visualization purposes, we create X data with values 1, 2, ..., 100 to be used for prediction\n",
    "X_viz = np.arange(1, 100, 1).reshape(-1, 1)  # reshape to create a column vector for scikit-learn\n"
   ]
  },
  {
   "cell_type": "markdown",
   "id": "7d4e6f87",
   "metadata": {},
   "source": [
    "### Input and output, Train- test split"
   ]
  },
  {
   "cell_type": "code",
   "execution_count": null,
   "id": "23134e3e",
   "metadata": {},
   "outputs": [],
   "source": [
    "\"\"\" Input and output \"\"\"\n",
    "feature_cols = ['Age']\n",
    "target_var = 'Height'\n",
    "\n",
    "X = df[feature_cols] #.values\n",
    "y = df[target_var] #.values\n",
    "\n",
    "\"\"\" Train-test split \"\"\"\n",
    "X_train, X_test, y_train, y_test = train_test_split(X, y, test_size=0.1, random_state=42)\n",
    "                                                                  # 10% of data for evaluation\n"
   ]
  },
  {
   "cell_type": "code",
   "execution_count": null,
   "id": "5343ef32",
   "metadata": {},
   "outputs": [],
   "source": [
    "y_train.describe()"
   ]
  },
  {
   "cell_type": "code",
   "execution_count": null,
   "id": "87a9669f",
   "metadata": {},
   "outputs": [],
   "source": [
    "figure(figsize=(12, 6), dpi=80)\n",
    "plt.plot(df.Age, df.Height, marker='o', linestyle='', c = 'green', markersize=5)\n",
    "plt.xlabel(\"Age\")\n",
    "plt.ylabel(\"Height [cm]\")\n",
    "plt.show()"
   ]
  },
  {
   "cell_type": "markdown",
   "id": "d1f52e1e",
   "metadata": {},
   "source": [
    "### Baseline\n",
    "What was the baseline we used in classification?\n",
    "\n",
    "What would be a an equivalent baseline for numeric prediction?\n",
    "\n",
    "</br></br></br></br></br></br></br></br></br></br></br></br></br></br></br></br></br></br></br></br></br></br></br></br></br></br>\n",
    "\n",
    "The \"Dummy\" baseline predictor does not look at the input data at all, only at the output."
   ]
  },
  {
   "cell_type": "code",
   "execution_count": null,
   "id": "47fb434c",
   "metadata": {},
   "outputs": [],
   "source": [
    "y_train.describe()"
   ]
  },
  {
   "cell_type": "code",
   "execution_count": null,
   "id": "b0746874",
   "metadata": {},
   "outputs": [],
   "source": [
    "y_mean = y_train.mean()\n",
    "y_num = y_test.shape[0]"
   ]
  },
  {
   "cell_type": "code",
   "execution_count": null,
   "id": "7fb39d99",
   "metadata": {},
   "outputs": [],
   "source": [
    "\n",
    "dummy_height = np.ones(y_num).reshape(-1, 1) * y_train.mean()    # a vector of ones, transposed, multiplied by training set mean"
   ]
  },
  {
   "cell_type": "code",
   "execution_count": null,
   "id": "c95bbdee",
   "metadata": {},
   "outputs": [],
   "source": [
    "dummy_height"
   ]
  },
  {
   "cell_type": "markdown",
   "id": "c6730ee6",
   "metadata": {},
   "source": [
    "### Mean squared error"
   ]
  },
  {
   "cell_type": "code",
   "execution_count": null,
   "id": "2ff4380e",
   "metadata": {},
   "outputs": [],
   "source": [
    "dummy_mse = metrics.mean_squared_error(y_test, dummy_height)\n",
    "dummy_mse"
   ]
  },
  {
   "cell_type": "markdown",
   "id": "e6c00ab3",
   "metadata": {},
   "source": [
    "What is the unit of the MSE (mean squared error)?\n",
    "</br></br></br></br></br></br></br></br></br></br></br></br></br></br></br></br></br></br></br></br></br></br></br></br></br></br>"
   ]
  },
  {
   "cell_type": "markdown",
   "id": "61f79070",
   "metadata": {},
   "source": [
    "### Dummy Regressor\n",
    "Scikit has a speciall class for the baseline regressor called ```DummyRegressor```. This regressor is useful as a simple baseline to compare with other (real) regressors. Do not use it for real problems.\n"
   ]
  },
  {
   "cell_type": "code",
   "execution_count": null,
   "id": "73b65f66",
   "metadata": {},
   "outputs": [],
   "source": [
    "dum = dummy.DummyRegressor()\n",
    "dum.fit(X_train, y_train)\n",
    "y_pred = dum.predict(X_test)\n",
    "y_pred"
   ]
  },
  {
   "cell_type": "code",
   "execution_count": null,
   "id": "85d6756a",
   "metadata": {},
   "outputs": [],
   "source": [
    "# Store the actual data and the predictions in a DataFrame for later\n",
    "heights_test = pd.DataFrame()\n",
    "heights_test[\"Age\"] = X_test[\"Age\"]\n",
    "heights_test[\"Actual_height\"] = y_test\n",
    "heights_test[\"Dummy_height\"] = y_pred"
   ]
  },
  {
   "cell_type": "code",
   "execution_count": null,
   "id": "ee2e04ab",
   "metadata": {},
   "outputs": [],
   "source": [
    "heights_test"
   ]
  },
  {
   "cell_type": "code",
   "execution_count": null,
   "id": "fe100934",
   "metadata": {},
   "outputs": [],
   "source": [
    "# This is equivalent to the code above, just formatted a little bit\n",
    "print(\"Dummy MSE  \\t{0:5.2f}\".format( metrics.mean_squared_error(heights_test[\"Actual_height\"], heights_test[\"Dummy_height\"])))\n"
   ]
  },
  {
   "cell_type": "markdown",
   "id": "af7425f5",
   "metadata": {},
   "source": [
    "What does it actually look like on the training dataset?"
   ]
  },
  {
   "cell_type": "code",
   "execution_count": null,
   "id": "d244c33a",
   "metadata": {},
   "outputs": [],
   "source": [
    "# Dummy regressor on the training dataset\n",
    "figure(figsize=(12, 6), dpi=80)\n",
    "plt.scatter(X_train[\"Age\"], y_train, label=\"ACTUAL\", c= \"green\")\n",
    "plt.scatter(X_viz, dum.predict(X_viz), label = \"Dummy\", c=\"orange\")\n",
    "plt.xlabel(\"Age\")\n",
    "plt.ylabel(\"Height [cm]\")\n",
    "plt.legend()"
   ]
  },
  {
   "cell_type": "markdown",
   "id": "93240ef9",
   "metadata": {},
   "source": [
    "### Linear Regression\n",
    "... fitting a linear equation to observed data"
   ]
  },
  {
   "cell_type": "code",
   "execution_count": null,
   "id": "ec989eb3",
   "metadata": {},
   "outputs": [],
   "source": [
    "regr = linear_model.LinearRegression()      # initialize\n",
    "regr.fit(X_train, y_train)                  # fit\n",
    "y_pred = regr.predict(X_test)               # predict"
   ]
  },
  {
   "cell_type": "code",
   "execution_count": null,
   "id": "fe6d44b4",
   "metadata": {},
   "outputs": [],
   "source": [
    "heights_test[\"Linear Regression\"] = y_pred\n",
    "heights_test"
   ]
  },
  {
   "cell_type": "code",
   "execution_count": null,
   "id": "443c4469",
   "metadata": {},
   "outputs": [],
   "source": [
    "# Linear regression coefficients\n",
    "print(\"Coefficients: \", regr.coef_)\n",
    "print(\"Intercept:\", regr.intercept_)"
   ]
  },
  {
   "cell_type": "markdown",
   "id": "445f7f96",
   "metadata": {},
   "source": [
    "How many coefficients are there?\n",
    "What is the interpretation of each in our case?\n",
    "</br></br></br></br></br></br></br></br></br></br></br></br></br></br></br></br></br></br></br></br></br></br></br></br>"
   ]
  },
  {
   "cell_type": "code",
   "execution_count": null,
   "id": "74d49412",
   "metadata": {},
   "outputs": [],
   "source": [
    "figure(figsize=(12, 6), dpi=80)\n",
    "plt.scatter(X_train[\"Age\"], y_train, label=\"ACTUAL\", c= \"green\")\n",
    "plt.scatter(X_viz, dum.predict(X_viz), label = \"Dummy\", c=\"orange\")\n",
    "plt.scatter(X_viz, regr.predict(X_viz), label = \"Linear Regression\", c=\"purple\")\n",
    "plt.xlabel(\"Age\")\n",
    "plt.ylabel(\"Height [cm]\")\n",
    "plt.legend()"
   ]
  },
  {
   "cell_type": "markdown",
   "id": "75bab208",
   "metadata": {},
   "source": [
    "Do we expect the linear regression to perform better in term of MSE as compared to Dummy?\n",
    "- On the training set?\n",
    "- On the test set?\n",
    "</br></br></br></br></br></br></br></br></br></br></br></br></br></br></br></br></br></br></br></br></br></br></br></br>"
   ]
  },
  {
   "cell_type": "code",
   "execution_count": null,
   "id": "6f060e49",
   "metadata": {},
   "outputs": [],
   "source": [
    "mse = metrics.mean_squared_error(heights_test[\"Actual_height\"], heights_test[\"Linear Regression\"])\n",
    "print(\"Linear regression MSE  \\t{0:5.2f}\".format(mse))\n"
   ]
  },
  {
   "cell_type": "markdown",
   "id": "bcac0278",
   "metadata": {},
   "source": [
    "### Regression tree\n",
    "Similar to TDIDT, but predicts numeric values.\n"
   ]
  },
  {
   "cell_type": "code",
   "execution_count": null,
   "id": "af4d8044",
   "metadata": {},
   "outputs": [],
   "source": [
    "reg_tree = tree.DecisionTreeRegressor(min_samples_leaf=25) # try including , max_depth=2\n",
    "reg_tree.fit(X_train, y_train)"
   ]
  },
  {
   "cell_type": "code",
   "execution_count": null,
   "id": "709e07a2",
   "metadata": {},
   "outputs": [],
   "source": [
    "# plot tree\n",
    "plt.figure(figsize=(12,12))  # set plot size (denoted in inches)\n",
    "tree.plot_tree(decision_tree= reg_tree, fontsize=14, feature_names=feature_cols, filled=True)\n",
    "plt.show()"
   ]
  },
  {
   "cell_type": "markdown",
   "id": "03d73901",
   "metadata": {},
   "source": [
    "- How does the tree predict a value?\n",
    "- What is the criteria for choosing the best attribute?\n",
    "- What is the stopping critria when building a regression tree?\n",
    "</br></br></br></br></br></br></br></br></br></br></br></br></br></br></br></br></br></br></br></br></br></br></br></br>"
   ]
  },
  {
   "cell_type": "code",
   "execution_count": null,
   "id": "584e778c",
   "metadata": {},
   "outputs": [],
   "source": [
    "y_pred = reg_tree.predict(X_test)\n",
    "heights_test[\"Regression Tree\"] = y_pred\n",
    "heights_test[[\"Age\", \"Regression Tree\"]]"
   ]
  },
  {
   "cell_type": "code",
   "execution_count": null,
   "id": "725b4f20",
   "metadata": {},
   "outputs": [],
   "source": [
    "figure(figsize=(12, 6), dpi=80)\n",
    "plt.scatter(X_train[\"Age\"], y_train, label=\"ACTUAL\", c= \"green\")\n",
    "plt.scatter(X_viz, dum.predict(X_viz), label = \"Dummy\", c=\"orange\")\n",
    "plt.scatter(X_viz, regr.predict(X_viz), label = \"Linear Regression\", c=\"purple\")\n",
    "plt.scatter(X_viz, reg_tree.predict(X_viz), label = \"Regression Tree\", c=\"cyan\")\n",
    "plt.xlabel(\"Age\")\n",
    "plt.ylabel(\"Height [cm]\")\n",
    "plt.legend()"
   ]
  },
  {
   "cell_type": "code",
   "execution_count": null,
   "id": "2fcc0ee5",
   "metadata": {},
   "outputs": [],
   "source": [
    "mse = metrics.mean_squared_error(heights_test[\"Actual_height\"], heights_test[\"Regression Tree\"])\n",
    "print(\"Regression tree MSE  \\t{0:5.2f}\".format(mse))"
   ]
  },
  {
   "cell_type": "markdown",
   "id": "52737560",
   "metadata": {},
   "source": [
    "Regression trees (as well as decision trees) are non-linear models. They divide the data into smaller (homogenious) parts and compute the majority/mean on that subset.\n",
    "- Prone to overfitting: require regularization via e.g. reduced error prunning\n",
    "- Sensitive to small changes in the data\n",
    "- Interpretable\n",
    "- Can be used as base-classifiers in ensembles to build stronger classifiers.\n"
   ]
  },
  {
   "cell_type": "markdown",
   "id": "7f5b6b29",
   "metadata": {},
   "source": [
    "## KNN: K- Nearest Neighbours\n",
    "A new data point is assigned the target value computed from it's K-nearest neighbours."
   ]
  },
  {
   "cell_type": "code",
   "execution_count": null,
   "id": "1d51232f",
   "metadata": {},
   "outputs": [],
   "source": [
    "pd.concat([X_train, y_train], axis=1, join=\"inner\").sort_values(\"Age\")"
   ]
  },
  {
   "cell_type": "code",
   "execution_count": null,
   "id": "039545fa",
   "metadata": {},
   "outputs": [],
   "source": [
    "knn = KNeighborsRegressor(n_neighbors=5)  # look at the 5 nearest neighbours\n",
    "knn.fit(X_train, y_train)                 # remembers all the data\n",
    "y_pred = knn.predict(X_test)\n",
    "heights_test[\"KNN-5\"] = y_pred"
   ]
  },
  {
   "cell_type": "code",
   "execution_count": null,
   "id": "9cc81466",
   "metadata": {},
   "outputs": [],
   "source": [
    "figure(figsize=(12, 6), dpi=80)\n",
    "plt.scatter(X_train[\"Age\"], y_train, label=\"ACTUAL\", c= \"green\")\n",
    "plt.scatter(X_viz, knn.predict(X_viz), label = \"KNN-5\", c=\"brown\")\n",
    "plt.xlabel(\"Age\")\n",
    "plt.ylabel(\"Height [cm]\")\n",
    "plt.legend()"
   ]
  },
  {
   "cell_type": "code",
   "execution_count": null,
   "id": "a7839493",
   "metadata": {},
   "outputs": [],
   "source": [
    "mse = metrics.mean_squared_error(heights_test[\"Actual_height\"], heights_test[\"KNN-5\"])\n",
    "print(\"KNN-5 MSE  \\t{0:5.2f}\".format(mse))"
   ]
  },
  {
   "cell_type": "markdown",
   "id": "fd9715ce",
   "metadata": {},
   "source": [
    "'''k''' in KNN is a parameter that refers to the number of nearest neighbours to include in the the voting process.\n",
    "\n",
    "We can change the parameter ```k``` in KNN to tune how well the the model fits the training data.\n",
    "- What do we get by increasing k? k= 100, k= 200?\n",
    "- What do we get by decreasing k to k =1?\n",
    "</br></br></br></br></br></br></br></br></br></br></br></br></br></br></br></br></br></br></br></br></br></br></br></br>\n",
    "\n",
    "We can choose K my means of a validation dataset: we use a small portion of the training dataset to evaluate different values of K. We choose the value of K which gives us the best performance on the validation set. We then use that value to train our model on the entire training data. \n",
    "\n",
    "Note the similarity of setting the hyper-parameters of a decision/regression tree.\n",
    "\n",
    "Can KNN be used for classification?\n",
    "\n",
    "How does one find the \"nearest neighbors\" in multi-variate cases (more attributes)?\n",
    "\n",
    "\n",
    "\n",
    "\n",
    "\n",
    "\n"
   ]
  },
  {
   "cell_type": "markdown",
   "id": "7a3831cf",
   "metadata": {},
   "source": [
    "### All regressors together"
   ]
  },
  {
   "cell_type": "code",
   "execution_count": null,
   "id": "66d46c5c",
   "metadata": {},
   "outputs": [],
   "source": [
    "heights_test.sort_values(\"Age\")"
   ]
  },
  {
   "cell_type": "markdown",
   "id": "325e9d7d",
   "metadata": {},
   "source": [
    "Which model is the best?"
   ]
  },
  {
   "cell_type": "code",
   "execution_count": null,
   "id": "95efe49e",
   "metadata": {
    "scrolled": true
   },
   "outputs": [],
   "source": [
    "figure(figsize=(12, 6), dpi=80)\n",
    "plt.scatter(X_train[\"Age\"], y_train, label=\"ACTUAL\", c= \"green\")\n",
    "plt.scatter(X_viz, dum.predict(X_viz), label = \"Dummy\", c=\"orange\")\n",
    "plt.scatter(X_viz, regr.predict(X_viz), label = \"Linear Regression\", c=\"purple\")\n",
    "plt.scatter(X_viz, reg_tree.predict(X_viz), label = \"Regression Tree\", c=\"cyan\")\n",
    "plt.scatter(X_viz, knn.predict(X_viz), label = \"KNN-5\", c=\"brown\")\n",
    "plt.xlabel(\"Age\")\n",
    "plt.ylabel(\"Height [cm]\")\n",
    "plt.legend()\n"
   ]
  },
  {
   "cell_type": "markdown",
   "id": "8de66207",
   "metadata": {},
   "source": [
    "## Numeric Prediction and Evaluation (short version)"
   ]
  },
  {
   "cell_type": "markdown",
   "id": "c2f96501",
   "metadata": {},
   "source": [
    "Data"
   ]
  },
  {
   "cell_type": "code",
   "execution_count": null,
   "id": "5bf5cfcf",
   "metadata": {},
   "outputs": [],
   "source": [
    "\"\"\" Load \"\"\"\n",
    "csvFileName = r\"./age-height.csv\"\n",
    "df = pd.read_csv(csvFileName)\n",
    "\n",
    "\"\"\" Define Input and output \"\"\"\n",
    "feature_cols = ['Age']\n",
    "target_var = 'Height'\n",
    "\n",
    "X = df[feature_cols] #.values\n",
    "y = df[target_var] #.values\n",
    "\n",
    "\"\"\" Train-test split \"\"\"\n",
    "X_train, X_test, y_train, y_test = train_test_split(X, y, test_size=0.1, random_state=42)\n",
    "                                                                  # 10% of data for evaluation\n"
   ]
  },
  {
   "cell_type": "markdown",
   "id": "c45808bd",
   "metadata": {},
   "source": [
    "Initialaze the learnars"
   ]
  },
  {
   "cell_type": "code",
   "execution_count": null,
   "id": "5d40d6cd",
   "metadata": {},
   "outputs": [],
   "source": [
    "dum = dummy.DummyRegressor()\n",
    "regr = linear_model.LinearRegression()\n",
    "reg_tree = tree.DecisionTreeRegressor(min_samples_leaf=25)\n",
    "knn = KNeighborsRegressor(n_neighbors=5)\n",
    "\n",
    "algs = {\"Dummy\":dum, \n",
    "        \"Linear regression\":regr, \n",
    "        \"Regression Tree\": reg_tree, \n",
    "        \"KNN\": knn}\n"
   ]
  },
  {
   "cell_type": "markdown",
   "id": "091a08b4",
   "metadata": {},
   "source": [
    "Define the evaluation metrics from \n",
    "https://scikit-learn.org/stable/modules/model_evaluation.html\n",
    "    "
   ]
  },
  {
   "cell_type": "code",
   "execution_count": null,
   "id": "6f01c420",
   "metadata": {},
   "outputs": [],
   "source": [
    "my_metrics = {\n",
    "    'max_error': metrics.max_error,\n",
    "    'mean_absolute_error': metrics.mean_absolute_error,\n",
    "    'mean_squared_error': metrics.mean_squared_error,\n",
    "    'r2': metrics.r2_score,\n",
    "    'median_absolute_error': metrics.median_absolute_error,\n",
    "    'explained_variance': metrics.explained_variance_score,\n",
    "    'mean_absolute_percentage_error': metrics.mean_absolute_percentage_error}"
   ]
  },
  {
   "cell_type": "markdown",
   "id": "77d3eb3c",
   "metadata": {},
   "source": [
    "Train and test according to all scores"
   ]
  },
  {
   "cell_type": "code",
   "execution_count": null,
   "id": "fe1afbcd",
   "metadata": {},
   "outputs": [],
   "source": [
    "alg_compare = pd.DataFrame()\n",
    "alg_compare[\"Metric\"] = my_metrics.keys()\n",
    "\n",
    "for alg_name, alg in algs.items():\n",
    "    alg.fit(X_train, y_train)\n",
    "    y_pred = alg.predict(X_test)\n",
    "    \n",
    "    values = []\n",
    "    for metric, m in my_metrics.items():\n",
    "        values.append(m(y_test, y_pred))\n",
    "    alg_compare[alg_name] = values\n",
    "    \n",
    "alg_compare\n",
    "\n"
   ]
  },
  {
   "cell_type": "markdown",
   "id": "1fa60a23",
   "metadata": {},
   "source": [
    "## Exercises\n",
    "1. Include the gender attribute and look if it improves the performance of the models\n",
    "2. Use a validation set to find an optimal tree size and an optimal K for KNN.\n",
    "3. Practice numeric prediction on some real datasets:\n",
    "https://www.telusinternational.com/insights/ai-data/article/10-open-datasets-for-linear-regression"
   ]
  },
  {
   "cell_type": "markdown",
   "id": "cb6d952b",
   "metadata": {},
   "source": [
    "### 1. Including the gender\n",
    "Most of the models in Scikit accept numerical data only. Therefore Gender needs to be encoded."
   ]
  },
  {
   "cell_type": "code",
   "execution_count": null,
   "id": "9e777b44",
   "metadata": {},
   "outputs": [],
   "source": [
    "\"\"\" Load \"\"\"\n",
    "csvFileName = r\"./age-height.csv\"\n",
    "df = pd.read_csv(csvFileName)"
   ]
  },
  {
   "cell_type": "code",
   "execution_count": null,
   "id": "1074ed22",
   "metadata": {},
   "outputs": [],
   "source": [
    "figure(figsize=(12, 6), dpi=80)\n",
    "\n",
    "groups = df.groupby('Gender')\n",
    "for name, group in groups:\n",
    "    plt.plot(group.Age, group.Height, marker='o', linestyle='', markersize=5, label=name)\n",
    "\n",
    "plt.xlabel(\"Age\")\n",
    "plt.ylabel(\"Height [cm]\")\n",
    "plt.legend()"
   ]
  },
  {
   "cell_type": "code",
   "execution_count": null,
   "id": "235dd108",
   "metadata": {},
   "outputs": [],
   "source": [
    "df.head()"
   ]
  },
  {
   "cell_type": "code",
   "execution_count": null,
   "id": "83939c5c",
   "metadata": {},
   "outputs": [],
   "source": [
    "df"
   ]
  },
  {
   "cell_type": "code",
   "execution_count": null,
   "id": "9c1f84f0",
   "metadata": {},
   "outputs": [],
   "source": [
    "gender_variables = pd.get_dummies(df[\"Gender\"])\n",
    "df = pd.concat([df[\"Age\"], gender_variables, df[\"Height\"]], axis=1)"
   ]
  },
  {
   "cell_type": "code",
   "execution_count": null,
   "id": "7e4f9b75",
   "metadata": {},
   "outputs": [],
   "source": [
    "df"
   ]
  },
  {
   "cell_type": "code",
   "execution_count": null,
   "id": "a2e7cecb",
   "metadata": {},
   "outputs": [],
   "source": []
  }
 ],
 "metadata": {
  "kernelspec": {
   "display_name": "Python 3 (ipykernel)",
   "language": "python",
   "name": "python3"
  },
  "language_info": {
   "codemirror_mode": {
    "name": "ipython",
    "version": 3
   },
   "file_extension": ".py",
   "mimetype": "text/x-python",
   "name": "python",
   "nbconvert_exporter": "python",
   "pygments_lexer": "ipython3",
   "version": "3.11.5"
  }
 },
 "nbformat": 4,
 "nbformat_minor": 5
}
