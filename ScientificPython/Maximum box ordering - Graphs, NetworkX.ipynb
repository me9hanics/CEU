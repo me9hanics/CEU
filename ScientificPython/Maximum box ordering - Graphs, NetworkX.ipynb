{
 "cells": [
  {
   "cell_type": "markdown",
   "metadata": {},
   "source": [
    "## Extra credit challenge\n",
    "\n",
    "You have bunch of empty boxes. To store them efficiently you are planning to place them inside each other. Each box has three dimensions `(h, w, l)`, assume that you can place box A inside box B if all of its dimensions are smaller, i.e., `hA<hB`, `wA<wB`, and `lA<lB`. (You don't like to rotate your boxes!) Write a function that\n",
    "* Takes a list of tuples as input, where each tuple describes the dimensions of a box. No two boxes have exactly the same size.\n",
    "* Returns the longest sequence of boxes that you can place inside of each other in a nested fashion.\n",
    "\n",
    "Example\n",
    "\n",
    "Input:\n",
    "```\n",
    "[(10,10,5),(1,1,1),(2,2,8),(9,5,3)]\n",
    "```\n",
    "Output:\n",
    "```\n",
    "[(10,10,5),(9,5,3),(1,1,1)]\n",
    "```"
   ]
  },
  {
   "cell_type": "markdown",
   "metadata": {},
   "source": [
    "Create a graph, each node is a box with properties (h,w,l).\n",
    "\n",
    "If a box can be put into another box, then there is a directed edge from the lower box to the higher box. <br>\n",
    "Therefore we can construct the edges in the graph this way: for v in vertices vs for u in vertices, if u can be put in v or v in u, then add edge (u,v) or (v,u) to the graph.\n",
    "\n",
    "The graph is DAG, most simply proved: if there is a directed cycle, then there'd a box that can be put on itself. Because of this, we can tackle the problem two ways:<br>\n",
    "a) do a topological sort, then find the longest path<br>\n",
    "b) Set edge weights to -1 and find the smallest value path (shortest path). This'd actually result in biggest length, as the sum of weights would be len*(-1)<br>\n",
    "(The way I did such things in my BSc thesis.)\n",
    "\n",
    "I chose the second approach."
   ]
  },
  {
   "cell_type": "code",
   "execution_count": 1,
   "metadata": {},
   "outputs": [],
   "source": [
    "import numpy as np\n",
    "import networkx as nx\n",
    "# Create a graph, each node is a box with (h,w,l), \n",
    "\n",
    "# if a box can be put on another box, then there is a directed edge from the lower box to the higher box. Therefore: for v in vertices vs for u in vertices, if u can be put on v or v in u, then add edge (u,v) to the graph.\n",
    "\n",
    "# The graph is DAG, most simply said if there is a directed cycle, then there'd a box that can be put on itself. Then we can make do two things:\n",
    "# a) topological sort, then find the longest path (This was suggested by copilot)\n",
    "# b) Set edge weights to -1 and find the shortest path. This'd actually result in biggest length, as the sum of weights would be len*(-1)\n",
    "\n",
    "\n",
    "# B)\n",
    "def box_graph(boxes):\n",
    "    G = nx.DiGraph()\n",
    "    for i in range(len(boxes)):\n",
    "        G.add_node(i, height=boxes[i][0], width=boxes[i][1], length=boxes[i][2])\n",
    "    for i in range(len(boxes)):\n",
    "        for j in range(i+1,len(boxes)):\n",
    "            if G.nodes[i]['height'] > G.nodes[j]['height'] and G.nodes[i]['width'] > G.nodes[j]['width'] and G.nodes[i]['length'] > G.nodes[j]['length']:\n",
    "                G.add_edge(i,j,weight=-1)\n",
    "            elif G.nodes[i]['height'] < G.nodes[j]['height'] and G.nodes[i]['width'] < G.nodes[j]['width'] and G.nodes[i]['length'] < G.nodes[j]['length']:\n",
    "                G.add_edge(j,i,weight=-1)\n",
    "    #Finished creating the graph\n",
    "    paths = nx.shortest_path(G,weight='weight', method='bellman-ford')\n",
    "    #This returns a dict of paths (dict), path[source][target] returns the shortest path from source to target. So I iterate over the dicts and gradually set the maximum\n",
    "    source=0; target=0; path=[] #Not sure about initalization\n",
    "    for iter in paths:\n",
    "        for iter2 in paths[iter]:\n",
    "            if len(paths[iter][iter2]) > len(path):\n",
    "                path = paths[iter][iter2]\n",
    "                source = iter\n",
    "                target = iter2\n",
    "    path_boxes = []\n",
    "    for i in path:\n",
    "        path_boxes.append(boxes[i])\n",
    "    \n",
    "    return path_boxes\n",
    "    "
   ]
  },
  {
   "cell_type": "code",
   "execution_count": 2,
   "metadata": {},
   "outputs": [
    {
     "name": "stdout",
     "output_type": "stream",
     "text": [
      "[(10, 10, 5), (9, 5, 3), (1, 1, 1)]\n"
     ]
    }
   ],
   "source": [
    "path_boxes= box_graph([(10,10,5),(1,1,1),(2,2,8),(9,5,3)])\n",
    "print(path_boxes);\n",
    "\n"
   ]
  }
 ],
 "metadata": {
  "kernelspec": {
   "display_name": "Python 3 (ipykernel)",
   "language": "python",
   "name": "python3"
  },
  "language_info": {
   "codemirror_mode": {
    "name": "ipython",
    "version": 3
   },
   "file_extension": ".py",
   "mimetype": "text/x-python",
   "name": "python",
   "nbconvert_exporter": "python",
   "pygments_lexer": "ipython3",
   "version": "3.11.5"
  }
 },
 "nbformat": 4,
 "nbformat_minor": 4
}
