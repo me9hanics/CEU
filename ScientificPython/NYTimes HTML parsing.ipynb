{
 "cells": [
  {
   "cell_type": "markdown",
   "metadata": {},
   "source": [
    "Write a function that returns two lists conataining the authors and the titles of the books on the New York Times best seller list.\n",
    "\n",
    "* Download and parse the page from here: https://www.nytimes.com/books/best-sellers/combined-print-and-e-book-fiction/,\n",
    "* The book titles are encased in a tag with attribute itemprop=\\\"name\\\",\n",
    "* The authors are in a tag itemprop=\\\"author\\\""
   ]
  },
  {
   "cell_type": "markdown",
   "metadata": {},
   "source": [
    "The function:"
   ]
  },
  {
   "cell_type": "code",
   "execution_count": null,
   "metadata": {},
   "outputs": [],
   "source": [
    "import urllib.request\n",
    "from bs4 import BeautifulSoup\n",
    "\n",
    "#Shorter solution\n",
    "def auth_title_list():\n",
    "    titles = []\n",
    "    authors = []\n",
    "    url = \"https://www.nytimes.com/books/best-sellers/combined-print-and-e-book-fiction/\"\n",
    "    page = urllib.request.urlopen(url)\n",
    "    soup = BeautifulSoup(page,\"lxml\")\n",
    "    for x in soup.find_all('h3', itemprop=\"name\"):\n",
    "        titles.append(x.text)\n",
    "    for y in soup.find_all('p', itemprop=\"author\"):\n",
    "        authors.append(y.text.strip('by '))\n",
    "    return titles, authors\n",
    "\n",
    "#Second solution: With try-except\n",
    "def auth_title_list_2():\n",
    "    titles = []\n",
    "    authors = []\n",
    "    url = \"https://www.nytimes.com/books/best-sellers/combined-print-and-e-book-fiction/\"\n",
    "    page = urllib.request.urlopen(url)\n",
    "    soup = BeautifulSoup(page,\"lxml\")\n",
    "    for x in soup.find_all('h3'):\n",
    "        try:\n",
    "            if(x['itemprop']=='name'):\n",
    "                titles.append(x.text)\n",
    "        except KeyError:\n",
    "            continue\n",
    "    for y in soup.find_all('p'):\n",
    "        try:\n",
    "            if(y['itemprop']=='author'):\n",
    "                authors.append(y.text.strip('by '))\n",
    "        except KeyError:\n",
    "            continue\n",
    "    return titles, authors\n",
    "\n",
    "#auth_title_list() == auth_title_list_2()"
   ]
  }
 ],
 "metadata": {
  "kernelspec": {
   "display_name": "Python 3 (ipykernel)",
   "language": "python",
   "name": "python3"
  },
  "language_info": {
   "codemirror_mode": {
    "name": "ipython",
    "version": 3
   },
   "file_extension": ".py",
   "mimetype": "text/x-python",
   "name": "python",
   "nbconvert_exporter": "python",
   "pygments_lexer": "ipython3",
   "version": "3.10.11"
  }
 },
 "nbformat": 4,
 "nbformat_minor": 4
}
