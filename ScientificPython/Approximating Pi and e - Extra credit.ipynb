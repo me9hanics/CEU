{
 "cells": [
  {
   "cell_type": "markdown",
   "metadata": {},
   "source": [
    "## Extra credit"
   ]
  },
  {
   "cell_type": "markdown",
   "metadata": {},
   "source": [
    "Importing the modules that we need:"
   ]
  },
  {
   "cell_type": "code",
   "execution_count": 9,
   "metadata": {},
   "outputs": [],
   "source": [
    "import numpy as np\n",
    "import timeit\n",
    "import math\n",
    "import itertools\n",
    "import matplotlib.pyplot as plt"
   ]
  },
  {
   "cell_type": "markdown",
   "metadata": {},
   "source": [
    "## Extra credit problems\n",
    "\n",
    "Consider the following array of a million uniform random floats:"
   ]
  },
  {
   "cell_type": "code",
   "execution_count": 41,
   "metadata": {},
   "outputs": [
    {
     "name": "stdout",
     "output_type": "stream",
     "text": [
      "[0.37454012 0.95071431 0.73199394 ... 0.41807198 0.42867126 0.92944855]\n"
     ]
    }
   ],
   "source": [
    "np.random.seed(42)\n",
    "ra = np.random.random(1000000)\n",
    "print(ra)"
   ]
  },
  {
   "cell_type": "markdown",
   "metadata": {},
   "source": [
    "Use this array and numpy operations to approximate $\\pi$. Use numpy operations (e.g., no explicit `for` loops allowed).\n",
    "\n",
    "You get the extra credit if you get the first three digits right, i.e.,`3.14`.\n",
    "\n",
    "If you figured $\\pi$ out, you can try the harder problem of estimating Euler's constant $e$ (without the use of the exponential function) for additional extra credit.\n"
   ]
  },
  {
   "cell_type": "code",
   "execution_count": 49,
   "metadata": {
    "scrolled": false
   },
   "outputs": [
    {
     "name": "stdout",
     "output_type": "stream",
     "text": [
      "0.18340450985343382 0.9830375301917122\n"
     ]
    },
    {
     "data": {
      "image/png": "[encoded data removed]",
      "text/plain": [
       "<Figure size 640x480 with 1 Axes>"
      ]
     },
     "metadata": {},
     "output_type": "display_data"
    }
   ],
   "source": [
    "#Pi: First try\n",
    "\n",
    "# x= between 0 and 1 (could be negative, but we're just drawing a quarter of the circle)\n",
    "# y= sqrt(1-x^2) or - sqrt(1-x^2):  We just choose positive y, and then work on the perimeter\n",
    "#Plot x,y\n",
    "#calculate perimeter: Shou\n",
    "x_pi = ra\n",
    "y_pi = np.sqrt(1-x_pi*x_pi)\n",
    "plt.plot(x_pi[0:10000],y_pi[0:10000],'o')\n",
    "plt.gca().set_aspect(1)\n",
    "print(x_pi[15],y_pi[15])"
   ]
  },
  {
   "cell_type": "code",
   "execution_count": 57,
   "metadata": {},
   "outputs": [],
   "source": [
    "#Wacky function, should do it different but it's fine for this fast work \n",
    "def pi_approximation(x_array, y_array):\n",
    "    x_array_sorted = np.sort(x_array)\n",
    "    y_array_sorted = np.sort(-y_array) #descending order\n",
    "    x_arr1 = x_array_sorted[1:]; x_arr2 = x_array_sorted[:-1]\n",
    "    y_arr1 = y_array_sorted[1:]; y_arr2 = y_array_sorted[:-1]\n",
    "    x_diffs = x_arr1-x_arr2; y_diffs = y_arr2-y_arr1\n",
    "    differences = np.sqrt(x_diffs*x_diffs+y_diffs*y_diffs)\n",
    "    #print(differences)\n",
    "    return np.sum(differences)*2\n",
    "    "
   ]
  },
  {
   "cell_type": "code",
   "execution_count": 64,
   "metadata": {},
   "outputs": [
    {
     "data": {
      "text/plain": [
       "3.137919951643796"
      ]
     },
     "execution_count": 64,
     "metadata": {},
     "output_type": "execute_result"
    }
   ],
   "source": [
    "estimate = pi_approximation(x_pi,y_pi)\n",
    "estimate"
   ]
  },
  {
   "cell_type": "markdown",
   "metadata": {},
   "source": [
    "This is not 3.14 just yet, I assume due to two things: 1) square root inaccuracies (probably less important) and 2) the arc between two neighboring points is longer than the section between them. We can just try working with squares instead, maybe that leads to a good enough solution. \n",
    "#### Side note: I actually tried a semicircle first, but the ordering for the y values was a little more complicated than just .sort(-y) because it should increase till its x pair is negative, then decrease. Seemed too complicated for me, so I just switched to estimating on a quarter circle"
   ]
  },
  {
   "cell_type": "code",
   "execution_count": 67,
   "metadata": {},
   "outputs": [
    {
     "name": "stdout",
     "output_type": "stream",
     "text": [
      "[1.57079581 1.57079549 1.5707941  ... 0.00328352 0.00318439 0.00183583]\n",
      "Estimate: 3.1415916159006603\n"
     ]
    }
   ],
   "source": [
    "#Second try: Adjust to arcs\n",
    "\n",
    "#There is a difference between the arc and the section between two neighboring points. If we \"average\", the typical arclength between two\n",
    "#points is pi/2/999999 (999999 arcs, overall pi/2 is the perimeter), and the \"typical\" coordinate difference between two points is (1/999999,-1/999999), leading to typical section length = sqrt(2)/999999.\n",
    "#This would suggest multiplying by pi/(2*sqrt2), however, that is a massive overshoot (the ratio between arc and section is just less in any case when the x coordinate diff and y coord diff is inequal)\n",
    "#   plus we'd use pi to get pi.\n",
    "#So my idea is: The arclength equals Phi, the angle in radians. So I just take the neighbouring x values (y is not needed), take their arccos values, and the difference equals the angle, thus the arclength.\n",
    "x_sort = np.sort(ra)\n",
    "angles = np.arccos(x_sort)\n",
    "print(angles)\n",
    "#At this point I just realized that, well, this works, but it's pointless... We're adding differences between neighbours, the sum will be arccos(min)-arccos(max), which is roughly pi/2-0 soo...\n",
    "#I might aswell just do this:\n",
    "print(\"Estimate:\",2*angles[0])\n",
    "#But this seems unfair, I didn't even use the \"randomness\" of the numbers. I might aswell just write arccos(ra[1]-ra[1]) and we're done. Soo...\n"
   ]
  },
  {
   "cell_type": "code",
   "execution_count": 76,
   "metadata": {},
   "outputs": [
    {
     "data": {
      "text/plain": [
       "3.141590568728185"
      ]
     },
     "execution_count": 76,
     "metadata": {},
     "output_type": "execute_result"
    }
   ],
   "source": [
    "#Third try: Area (why not)\n",
    "def pi_approximation_area(x_array, y_array):\n",
    "    x_array_sorted = np.sort(x_array)\n",
    "    y_array_sorted = -np.sort(-y_array) #descending order\n",
    "    x_arr1 = x_array_sorted[1:]; x_arr2 = x_array_sorted[:-1]\n",
    "    y_arr1 = y_array_sorted[1:]; y_arr2 = y_array_sorted[:-1]\n",
    "    x_diffs = x_arr1-x_arr2; y_inbetween = (y_arr2+y_arr1)/2\n",
    "    area = np.sum(x_diffs*y_inbetween)\n",
    "    return np.sum(area)*4\n",
    "    \n",
    "our_pi = pi_approximation_area(x_pi,y_pi)\n",
    "our_pi\n",
    "\n",
    "#For some reason, this is much closer than the perimeter one, and good enough.\n",
    "#I guess afterall, it makes sense. The section-arc fraction can be as high as pi/(2*sqrt2)=1.11... for ANY neighboring points.\n",
    "#    But here, I did not check the difference between areas, however, the smaller the x value (the higher y is), the bigger the areas are overall,\n",
    "#    and the difference/all_area is very small, clearly limited by some small number (that I did not compute, but exist for each height)."
   ]
  },
  {
   "cell_type": "markdown",
   "metadata": {},
   "source": [
    "And we're done! I had another idea: turning the numbers into integers (unfair) and then $\\sum_{n=1}^{\\infty} \\frac{1}{n^2} = \\pi^2/6$.\n",
    "\n",
    "Let's attempt the other exercise too: \"estimating Euler's constant $e$ (without the use of the exponential function)\"\n",
    "\n",
    "To be honest, I did not really find any solution that makes very much use of random numbers and uses them to DIRECTLY approximate *e*, except maybe solution #5. I did do one (solution #2) but it is a little artificial, and other solutions just don't really rely on random numbers that much, or they just rely on one element of many. Those I would call A-level good solutions (I have none). I have some B-level (reasonable, but bit weird/unfair) solutions, and some sketchy (C-level) ones."
   ]
  },
  {
   "cell_type": "code",
   "execution_count": 92,
   "metadata": {
    "scrolled": true
   },
   "outputs": [
    {
     "name": "stdout",
     "output_type": "stream",
     "text": [
      "(2.718283632399814+0j)\n",
      "Estimate method e_pi_i gives: 2.718283632399814\n"
     ]
    }
   ],
   "source": [
    "#1st (rated B): e^(pi*i) = -1  numpy deals with complex numbers. (-1)^(1/(pi*i)) = e, can use 1/i =-i\n",
    "\n",
    "#We use the random numbers to get pi, and then we can easily compute e from pi aswell.\n",
    "complex_exponent = complex(0,-1/our_pi)\n",
    "e_est = np.power(-1,complex_exponent,dtype=complex)\n",
    "print(e_est)\n",
    "    #Turn it into a real number:\n",
    "print(\"Estimate method e_pi_i gives:\", np.real(e_est))\n",
    "    #This is fine, but I dunno, is a bit sketchy. Complex exponents I believe make use of e^(ix)=cosx+isinx so I'm not sure this somehow under the hood assumes e=2.71..\n"
   ]
  },
  {
   "cell_type": "code",
   "execution_count": 95,
   "metadata": {},
   "outputs": [
    {
     "name": "stdout",
     "output_type": "stream",
     "text": [
      "Estimate method t^x:  2.718285714285714\n"
     ]
    }
   ],
   "source": [
    "#2nd (rated B+): t^x and differential approximation (TAKES LONG TIME!!!)\n",
    "    #This idea is that e^x 's derivative is itself, whereas for t^x the derivative is ln(t)*t^x. We can compute the ratio between the two and the closer we get to 1, the closer we are toe\n",
    "t = np.linspace(2.0,5.0,3501) #Assuming e is between 2 and 5, but we could do any region (well, 0 and 1 does not work but you get it). Just less time this way\n",
    "arguments = np.sort(ra)\n",
    "args1 = arguments[1:]; args2 = arguments[:-1]; argdiffs = args1-args2\n",
    "    #Sorry for using for, but np.power just does elementwise power [t_values] [exponents]\n",
    "for tval in t:\n",
    "    tval_pows = np.power(tval, arguments)\n",
    "    tval_pows_big = tval_pows[1:]; tval_pows_small = tval_pows[:-1]\n",
    "    t_derivatives = (tval_pows_big-tval_pows_small)/argdiffs\n",
    "    ratio_lower = np.mean(t_derivatives/tval_pows[1:]) #Just to balance between overshoot and undershoot\n",
    "    ratio_higher = np.mean(t_derivatives/tval_pows[0:-1])\n",
    "    if (ratio_higher+ratio_lower)>2: #avg bigger than 1\n",
    "        print(\"Estimate method t^x: \", tval)\n",
    "        #print(tval_pows); print(t_derivatives); print(ratio_lower, ratio_higher)\n",
    "        break\n",
    "    #To be fair it works, and uses the random numbers. But is quite ineffective/illogical. Could just look at f(x)=t^x -> f'(0), this equals ln(t) so we aim for value 1 again, much less computation, and that'd again just use the smallest value\n",
    "    "
   ]
  },
  {
   "cell_type": "code",
   "execution_count": 93,
   "metadata": {},
   "outputs": [
    {
     "name": "stdout",
     "output_type": "stream",
     "text": [
      "Estimate method e^x=1+x gives:  2.718281122694845\n"
     ]
    }
   ],
   "source": [
    "#3rd (rated C/C+): e^x is close to 1+x for small x, in fact, the difference by Taylor's series is x^2/2! + x^3/3! + ... If we pick x = 0.1, then the error is certainly less than 0.01\n",
    "    #e is roughly (1+x)^(1/x)\n",
    "x = np.min(ra)\n",
    "print(\"Estimate method e^x=1+x gives: \", np.power(1+x,1/x))\n",
    "    #Sketchy, I'm just using the smallest number which is very likely very small\n",
    "    #Similar type of solution: resize to [0,100], floor the maximal value, use it as N in (1+1/N)^N"
   ]
  },
  {
   "cell_type": "code",
   "execution_count": 108,
   "metadata": {},
   "outputs": [
    {
     "name": "stdout",
     "output_type": "stream",
     "text": [
      "Estimate method 1/x integration gives:  2.718278340756778\n"
     ]
    }
   ],
   "source": [
    "#4th (rated B+): 1/x integration from 1 to e equals 1\n",
    "    #Idea: rescale ra to (1,t) and integrate the function 1/x (using this) from 1 to t, iterate t\n",
    "    \n",
    "    #To make the algorithm fast (not use for loop), I'll just modify the randoms interval to [1,3] and hopefully that gives a good enough estimate\n",
    "arguments = np.sort(ra)*2+1\n",
    "args1 = arguments[1:]; args2 = arguments[:-1]; argdiffs = args1-args2\n",
    "reciprocals = 1/arguments\n",
    "areas = (reciprocals[1:]+reciprocals[:-1])/2*argdiffs\n",
    "i = (np.cumsum(areas)<=1).argmin() #I saw this trick on Stack Overflow: cumulative sum gives back an array element [i] equals sum_0^i-1 areas[j], and argmin gives back the last index for which the sum is at most 1\n",
    "print(\"Estimate method 1/x integration gives: \", 1/reciprocals[i])\n",
    "    #Works, makes more sense than 2), again I assumed that e is less than 5 (you can do a while loop till we get what we want, but I didn't bother)"
   ]
  },
  {
   "cell_type": "code",
   "execution_count": 178,
   "metadata": {},
   "outputs": [
    {
     "name": "stdout",
     "output_type": "stream",
     "text": [
      "2.770612995683429\n",
      "2.7840452544142718\n",
      "2.840681148669009\n",
      "2.912283999948182\n"
     ]
    },
    {
     "data": {
      "text/plain": [
       "[2.896732936933044,\n",
       " 3.275834099783395,\n",
       " 2.5614176067460237,\n",
       " 3.0000011554188384,\n",
       " 2.712442957881427,\n",
       " 2.905946674227584,\n",
       " 2.490632901637566,\n",
       " 2.8839630165893437,\n",
       " 2.795527193767485,\n",
       " 2.553102864516132,\n",
       " 2.9623064431210198,\n",
       " 2.7031368844561556,\n",
       " 2.6011392656535133,\n",
       " 2.9616350488697862,\n",
       " 2.6731822049891676,\n",
       " 2.5114878731260406,\n",
       " 4.514246800381447,\n",
       " 1.3464109341218204,\n",
       " 0.010665515057406573,\n",
       " 2.8178024734676896e-05,\n",
       " 12.124553049957912,\n",
       " 5.3370278570815355,\n",
       " 2.8467791363274704,\n",
       " 2.4314221625995747,\n",
       " 2.4632125549593664,\n",
       " 2.5009304252708584,\n",
       " 2.7777592065095527,\n",
       " 2.57326398878194,\n",
       " 2.7441075015338403,\n",
       " 2.87678131203754,\n",
       " 3.0077217712745528,\n",
       " 2.8167802077353685,\n",
       " 2.6537083001485873,\n",
       " 2.4888247906211394,\n",
       " 3.138670255676977,\n",
       " 2.6599831259902107,\n",
       " 2.60606832611964,\n",
       " 3.09700494840366,\n",
       " 2.483021997302681,\n",
       " 2.503898524292944]"
      ]
     },
     "execution_count": 178,
     "metadata": {},
     "output_type": "execute_result"
    },
    {
     "data": {
      "image/png": "[encoded data removed]",
      "text/plain": [
       "<Figure size 640x480 with 1 Axes>"
      ]
     },
     "metadata": {},
     "output_type": "display_data"
    }
   ],
   "source": [
    "#5th (?): Turn the numbers into a standard normal distribution like in the homework, then we know f(x) = 1/sqrt(2*pi) * e^(0.5x^2), and we can just iterate through x to estimate e\n",
    "def e_estimate_with_normal_dist(size=1000000,bincount = 30):\n",
    "    np.random.seed(20001104) #my birthday\n",
    "    #We can use rand1000 = np.random.random((1000,10000)) and then turn it into normal distribution, but for accuracy reasons, I just assume we already have std. normal dist. values\n",
    "    rand_normal = np.random.normal(0,1, size)\n",
    "    plt.clf()\n",
    "    plt.hist(rand_normal, bincount, density=True)\n",
    "    theoretical_pdf = 1./(2.*np.pi)**.5*np.exp(-((np.linspace(-3,3,bincount))**2.)/2) #Just for looks, I dont need the exponential function. Standard normal dist\n",
    "    plt.plot(np.linspace(-3,3,bincount), theoretical_pdf,'--',linewidth=5) \n",
    "\n",
    "    hist_data,bin_edges = np.histogram(rand_normal,bins=bincount,density=True)\n",
    "\n",
    "    e_estimates = []\n",
    "    #Use for loop (its just 50 bins)\n",
    "    for i in range(bincount):\n",
    "        x_i = (bin_edges[i]+bin_edges[i+1])/2\n",
    "        f_x_i = hist_data[i]\n",
    "        if f_x_i == 0.0:\n",
    "            continue\n",
    "        e_estimates.append(np.power((f_x_i*np.sqrt(2*np.pi)),-2/x_i/x_i))\n",
    "    print(np.mean(e_estimates))\n",
    "    return e_estimates\n",
    "    \n",
    "e_estimate_with_normal_dist(1000000, 30)\n",
    "e_estimate_with_normal_dist(1000000, 50)\n",
    "e_estimate_with_normal_dist(10000, 20)\n",
    "e_estimate_with_normal_dist(10000, 40)"
   ]
  },
  {
   "cell_type": "markdown",
   "metadata": {},
   "source": [
    "This works, but is fairly inaccurate.. There is some overshoot everytime, which tends to be less and less as we use less bins, but it's inaccurate for too small values. I tried with just 10000 numbers, the best is 2.84 there.\n",
    "\n",
    "But to be fair, many values in the bins (50 bin case) equal to 2.73... Maybe taking the mean is not the best idea. Let's try this:"
   ]
  },
  {
   "cell_type": "code",
   "execution_count": 188,
   "metadata": {},
   "outputs": [
    {
     "name": "stdout",
     "output_type": "stream",
     "text": [
      "2.7840452544142718\n",
      "New estimate with mode:  2.71\n"
     ]
    },
    {
     "data": {
      "image/png": "[encoded data removed]",
      "text/plain": [
       "<Figure size 640x480 with 1 Axes>"
      ]
     },
     "metadata": {},
     "output_type": "display_data"
    }
   ],
   "source": [
    "estimatelist=e_estimate_with_normal_dist(1000000, 50)\n",
    "two_digit_cutoff = [math.floor(100*x) for x in estimatelist]\n",
    "est_most_common=max(set(two_digit_cutoff), key = two_digit_cutoff.count)/100\n",
    "print(\"New estimate with mode: \",est_most_common)"
   ]
  },
  {
   "cell_type": "markdown",
   "metadata": {},
   "source": [
    "I guess that works, although it's not too reliable. \n",
    "\n",
    "Below I collected some other ideas:\n",
    "\n",
    "6-7th-etc.: Weird approximations with \"\"\"random\"\"\" numbers (could just be any set of numbers don't need them to be random)\n",
    "\n",
    "6th example: recreating 1+1/2+1/3!+... we could just multply each random value by 10 then take the floor function, take out 0 values and occuring values, you (99%+) get a set of [1..9] and just make this calculation\n",
    "    #Too unfair, zero real use of the random numbers\n",
    "\n",
    "7th: Creating new values from the random numbers that just lead to e:\n",
    "    # For example: the function x^(1/x) is maximal at e. We take the random numbers, rescale them to lets say 1 to 10 (this assumes we know 1<e<10) and check for the highest values, then use e.g Newton method to find the maximum (can just look for the root of the derivative aswell). I also don't find this fair, because you could do this from just any 2 numbers and will lead to a solution, if e is in the bound of them. + also assumes we know some bounds that include e\n",
    "\n",
    "More ideas:\n",
    "\n",
    "-Using ln(1+x) formula \n",
    "\n",
    "-Somehow create a Poisson, or exponential distribution of numbers from the uniform distribution, then somehow get e from it\n",
    "\n",
    "-somehow from 1/(1-x) formula, just a thought\n",
    "\n",
    "-somehow from cos(x) or sin(x) exponential formulas e.g. (e^ix + e^-ix)/2"
   ]
  }
 ],
 "metadata": {
  "kernelspec": {
   "display_name": "Python 3 (ipykernel)",
   "language": "python",
   "name": "python3"
  },
  "language_info": {
   "codemirror_mode": {
    "name": "ipython",
    "version": 3
   },
   "file_extension": ".py",
   "mimetype": "text/x-python",
   "name": "python",
   "nbconvert_exporter": "python",
   "pygments_lexer": "ipython3",
   "version": "3.11.5"
  }
 },
 "nbformat": 4,
 "nbformat_minor": 4
}
